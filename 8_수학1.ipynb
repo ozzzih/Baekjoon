{
 "cells": [
  {
   "cell_type": "code",
   "execution_count": 35,
   "metadata": {},
   "outputs": [
    {
     "name": "stdout",
     "output_type": "stream",
     "text": [
      "60466175\n"
     ]
    }
   ],
   "source": [
    "#2745번\n",
    "#진법 변환\n",
    "l=list(input().split())\n",
    "a=(['0','1','2','3','4','5','6','7','8','9','A','B','C','D','E','F','G','H','I','J','K','L','M','N','O','P','Q','R','S','T','U','V','W','X','Y','Z'])\n",
    "result=0\n",
    "for i in range(len(l[0])):\n",
    "    x=a.index(l[0][i])\n",
    "    result+=x*(int(l[1])**(len(l[0])-1-i))\n",
    "print(result)"
   ]
  },
  {
   "cell_type": "code",
   "execution_count": 36,
   "metadata": {},
   "outputs": [
    {
     "name": "stdout",
     "output_type": "stream",
     "text": [
      "60466175\n"
     ]
    }
   ],
   "source": [
    "#2745번 답\n",
    "n,b=input().split()\n",
    "print(int(n,int(b)))\n"
   ]
  },
  {
   "cell_type": "code",
   "execution_count": 60,
   "metadata": {},
   "outputs": [
    {
     "name": "stdout",
     "output_type": "stream",
     "text": [
      "ZZZZZ\n"
     ]
    }
   ],
   "source": [
    "#11005번\n",
    "n,b=map(int, input().split())\n",
    "def solution(n,q):\n",
    "    rev_base = ''\n",
    "    a=(['0','1','2','3','4','5','6','7','8','9','A','B','C','D','E','F','G','H','I','J','K','L','M','N','O','P','Q','R','S','T','U','V','W','X','Y','Z'])\n",
    "    while n>0:\n",
    "        n, mod = divmod(n,q)\n",
    "        rev_base += a[mod]\n",
    "    return rev_base[::-1]\n",
    "print(solution(n,b))"
   ]
  },
  {
   "cell_type": "code",
   "execution_count": 1,
   "metadata": {},
   "outputs": [
    {
     "name": "stdout",
     "output_type": "stream",
     "text": [
      "4 2 0 4\n",
      "1 0 0 0\n",
      "7 1 1 4\n"
     ]
    }
   ],
   "source": [
    "#2720번\n",
    "#세탁소 사장 동혁\n",
    "n=int(input())\n",
    "num=[int(input()) for i in range(n)]\n",
    "for i in num:\n",
    "    a1,b=divmod(i,25)\n",
    "    a2,b=divmod(b,10)\n",
    "    a3,b=divmod(b,5)\n",
    "    print(a1, a2, a3, b)"
   ]
  },
  {
   "cell_type": "code",
   "execution_count": 2,
   "metadata": {},
   "outputs": [
    {
     "name": "stdout",
     "output_type": "stream",
     "text": [
      "1089\n"
     ]
    }
   ],
   "source": [
    "#2903번\n",
    "#중앙 이동 알고리즘\n",
    "n=int(input())\n",
    "print((1+2**n)**2)"
   ]
  },
  {
   "cell_type": "code",
   "execution_count": 3,
   "metadata": {},
   "outputs": [
    {
     "name": "stdout",
     "output_type": "stream",
     "text": [
      "5\n"
     ]
    }
   ],
   "source": [
    "#2292번\n",
    "cnt=int(input())\n",
    "n=1\n",
    "while ((3*n**2)-(3*n))+1<cnt:\n",
    "    n+=1\n",
    "print(n)\n"
   ]
  },
  {
   "cell_type": "code",
   "execution_count": 46,
   "metadata": {},
   "outputs": [
    {
     "name": "stdout",
     "output_type": "stream",
     "text": [
      "1679615 35\n"
     ]
    }
   ],
   "source": [
    "#1193번\n",
    "n = int(input())\n",
    "line = 1\n",
    "\n",
    "while n > line:\n",
    "    n -= line\n",
    "    line += 1\n",
    "\n",
    "if line % 2 == 0:\n",
    "    up = n\n",
    "    down = line - n + 1\n",
    "else:\n",
    "    up = line - n + 1\n",
    "    down = n\n",
    "\n",
    "print(up,'/',down, sep=\"\")"
   ]
  },
  {
   "cell_type": "code",
   "execution_count": 4,
   "metadata": {},
   "outputs": [
    {
     "name": "stdout",
     "output_type": "stream",
     "text": [
      "999999901\n"
     ]
    }
   ],
   "source": [
    "#2869번\n",
    "#달팽이는 올라가고 싶다\n",
    "\n",
    "A,B,V=map(int, input().split())\n",
    "if((V-B)%(A-B)==0):\n",
    "    print((V-B)//(A-B))\n",
    "else:\n",
    "    print((V-B)//(A-B)+1)\n",
    "\n",
    "\n",
    "\n"
   ]
  }
 ],
 "metadata": {
  "kernelspec": {
   "display_name": "Python 3",
   "language": "python",
   "name": "python3"
  },
  "language_info": {
   "codemirror_mode": {
    "name": "ipython",
    "version": 3
   },
   "file_extension": ".py",
   "mimetype": "text/x-python",
   "name": "python",
   "nbconvert_exporter": "python",
   "pygments_lexer": "ipython3",
   "version": "3.9.13"
  }
 },
 "nbformat": 4,
 "nbformat_minor": 2
}
