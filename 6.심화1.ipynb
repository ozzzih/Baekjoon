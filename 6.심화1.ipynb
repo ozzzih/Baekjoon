{
 "cells": [
  {
   "cell_type": "code",
   "execution_count": 4,
   "metadata": {},
   "outputs": [
    {
     "name": "stdout",
     "output_type": "stream",
     "text": [
      "         ,r'\"7\n",
      "r`-_   ,'  ,/\n",
      " \\. \". L_r'\n",
      "   `~\\/\n",
      "      |\n",
      "      |\n"
     ]
    }
   ],
   "source": [
    "print(\"         ,r\\'\\\"7\")\n",
    "print(\"r`-_   ,\\'  ,/\")\n",
    "print(\" \\. \\\". L_r'\")\n",
    "print(\"   `~\\/\")\n",
    "print(\"      |\")\n",
    "print(\"      |\")"
   ]
  },
  {
   "cell_type": "code",
   "execution_count": 15,
   "metadata": {},
   "outputs": [
    {
     "name": "stdout",
     "output_type": "stream",
     "text": [
      "-1 0 0 1 0 7\n"
     ]
    }
   ],
   "source": [
    "#3003번\n",
    "#킹, 퀸, 룩, 비숍, 나이트 ,폰\n",
    "l=list([1,1,2,2,2,8])\n",
    "s=list(input().split())\n",
    "r=[]\n",
    "for i in range(len(s)):\n",
    "    r.append(str(int(l[i])-int(s[i])))\n",
    "print(\" \".join(r))"
   ]
  },
  {
   "cell_type": "code",
   "execution_count": 67,
   "metadata": {},
   "outputs": [
    {
     "name": "stdout",
     "output_type": "stream",
     "text": [
      "*\n"
     ]
    }
   ],
   "source": [
    "#2444번\n",
    "#별 찍기\n",
    "s=int(input())\n",
    "r=[]\n",
    "for i in range(s):\n",
    "    r.append(\" \"*(int(((s-1)*2-(i*2)+1)/2))+\"*\"*((i*2)+1))\n",
    "if(s==1):\n",
    "    r=r\n",
    "else:\n",
    "    r=r+r[s-2::-1]\n",
    "for w in r:\n",
    "    print(w)"
   ]
  },
  {
   "cell_type": "code",
   "execution_count": 74,
   "metadata": {},
   "outputs": [
    {
     "name": "stdout",
     "output_type": "stream",
     "text": [
      "1\n"
     ]
    }
   ],
   "source": [
    "#10988번\n",
    "#팰린드롬인지 확인하기\n",
    "s=input()\n",
    "r=1\n",
    "for i in range(int(len(s)/2)):\n",
    "    if(s[i]!=s[-(i+1)]):\n",
    "        r=0\n",
    "        break\n",
    "print(r)\n"
   ]
  },
  {
   "cell_type": "code",
   "execution_count": 118,
   "metadata": {},
   "outputs": [
    {
     "name": "stdout",
     "output_type": "stream",
     "text": [
      "A\n"
     ]
    }
   ],
   "source": [
    "#1157번\n",
    "#단어 공부\n",
    "\n",
    "s=input()\n",
    "s=s.upper()\n",
    "r={}\n",
    "for i in s:\n",
    "    if(i in r):\n",
    "        r[i]+=1\n",
    "    else:\n",
    "        r[i]=1\n",
    "if len([k for k,v in r.items() if max(r.values())==v])!=1:\n",
    "    print(\"?\")\n",
    "else:\n",
    "    print(max(r, key=r.get))"
   ]
  },
  {
   "cell_type": "code",
   "execution_count": 127,
   "metadata": {},
   "outputs": [
    {
     "name": "stdout",
     "output_type": "stream",
     "text": [
      "3\n"
     ]
    }
   ],
   "source": [
    "#2941번\n",
    "#크로아티아 알파벳\n",
    "l=['c=', 'c-', 'dz=', 'd-', 'lj', 'nj','s=','z=']\n",
    "s=input()\n",
    "r=0\n",
    "i=0\n",
    "while(i<len(s)):\n",
    "    r+=1\n",
    "    if s[i:i+2] in l:\n",
    "        i+=2\n",
    "    elif s[i:i+3] in l:\n",
    "        i+=3\n",
    "    else:\n",
    "        i+=1\n",
    "print(r)"
   ]
  },
  {
   "cell_type": "code",
   "execution_count": 17,
   "metadata": {},
   "outputs": [
    {
     "name": "stdout",
     "output_type": "stream",
     "text": [
      "1\n"
     ]
    }
   ],
   "source": [
    "#1316번\n",
    "#그룹 단어 체커\n",
    "def find(str, st):\n",
    "    for i, c in enumerate(str):\n",
    "        if c==st:\n",
    "            yield i\n",
    "k=int(input())\n",
    "result=0\n",
    "j=0\n",
    "while(j<k):\n",
    "    s=input(); l=set(s); r=1\n",
    "    for i in l:\n",
    "        a=list(find(s, i))\n",
    "        if len(a)==1:\n",
    "            r=1\n",
    "        else:\n",
    "            if a==list(range(a[0],a[len(a)-1]+1)):\n",
    "                r=1\n",
    "            else:\n",
    "                r=0\n",
    "                break\n",
    "    result+=r\n",
    "    j+=1\n",
    "print(result)\n",
    "\n",
    "\n"
   ]
  },
  {
   "cell_type": "code",
   "execution_count": 29,
   "metadata": {},
   "outputs": [
    {
     "name": "stdout",
     "output_type": "stream",
     "text": [
      "3.19672131147541\n"
     ]
    }
   ],
   "source": [
    "# 25206번\n",
    "# 너의 평점은\n",
    "def cal(grade):\n",
    "    if grade=='A+':\n",
    "        score=4.5\n",
    "    elif grade=='A0':\n",
    "        score=4.0\n",
    "    elif grade=='B+':\n",
    "        score=3.5\n",
    "    elif grade == 'B0':\n",
    "        score=3.0\n",
    "    elif grade == 'C+':\n",
    "        score=2.5\n",
    "    elif grade == 'C0':\n",
    "        score=2.0\n",
    "    elif grade == 'D+':\n",
    "        score=1.5\n",
    "    elif grade == 'D0':\n",
    "        score=1.0\n",
    "    else:\n",
    "        score=0.0\n",
    "    return score\n",
    "\n",
    "hap=0; sc=0; i=0\n",
    "while i<20:\n",
    "    s=list(input().split())\n",
    "    if s[2]=='P':\n",
    "        i+=1\n",
    "    else:\n",
    "        hap+=float(s[1])\n",
    "        sc+=float(s[1])*cal(s[2])\n",
    "        i+=1\n",
    "\n",
    "print(sc/hap)\n",
    "    \n"
   ]
  },
  {
   "cell_type": "code",
   "execution_count": 25,
   "metadata": {},
   "outputs": [],
   "source": [
    "hap=0; sc=0\n",
    "s=list(input().split())\n",
    "hap+=float(s[1])\n",
    "sc+=float(s[1])*cal(s[2])\n"
   ]
  },
  {
   "cell_type": "code",
   "execution_count": 26,
   "metadata": {},
   "outputs": [
    {
     "name": "stdout",
     "output_type": "stream",
     "text": [
      "3.5\n"
     ]
    }
   ],
   "source": [
    "print(sc/hap)"
   ]
  },
  {
   "cell_type": "code",
   "execution_count": 23,
   "metadata": {},
   "outputs": [],
   "source": [
    "s=list(input().split())\n",
    "hap+=float(s[1])\n",
    "sc+=float(s[1])*cal(s[2])"
   ]
  },
  {
   "cell_type": "code",
   "execution_count": 24,
   "metadata": {},
   "outputs": [
    {
     "name": "stdout",
     "output_type": "stream",
     "text": [
      "4.071428571428571\n"
     ]
    }
   ],
   "source": [
    "print(sc/hap)"
   ]
  },
  {
   "cell_type": "code",
   "execution_count": 132,
   "metadata": {},
   "outputs": [
    {
     "data": {
      "text/plain": [
       "[2, 3]"
      ]
     },
     "execution_count": 132,
     "metadata": {},
     "output_type": "execute_result"
    }
   ],
   "source": [
    "a='happy'\n",
    "def find(str, st):\n",
    "    for i, c in enumerate(str):\n",
    "        if c==st:\n",
    "            yield i\n",
    "list(find(a, 'p'))\n"
   ]
  }
 ],
 "metadata": {
  "kernelspec": {
   "display_name": "Python 3",
   "language": "python",
   "name": "python3"
  },
  "language_info": {
   "codemirror_mode": {
    "name": "ipython",
    "version": 3
   },
   "file_extension": ".py",
   "mimetype": "text/x-python",
   "name": "python",
   "nbconvert_exporter": "python",
   "pygments_lexer": "ipython3",
   "version": "3.9.13"
  }
 },
 "nbformat": 4,
 "nbformat_minor": 2
}
