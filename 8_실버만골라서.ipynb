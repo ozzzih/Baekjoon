{
 "cells": [
  {
   "cell_type": "code",
   "execution_count": 3,
   "metadata": {},
   "outputs": [],
   "source": [
    "#1018번\n",
    "r,c=map(int, input().split())\n",
    "result=r*c\n",
    "words = [input() for i in range(r)]\n",
    "for i in range(c-7):\n",
    "    for j in range(r-7):\n",
    "        new=words[j:j+8]\n",
    "        W=0\n",
    "        B=0\n",
    "        for k in range(8):\n",
    "            n=new[k][i:i+8]\n",
    "            W+=n.count('W')\n",
    "            B+=n.count('B')\n",
    "        if(32-W)+(32-)\n",
    "\n",
    "        "
   ]
  },
  {
   "cell_type": "code",
   "execution_count": 1,
   "metadata": {},
   "outputs": [
    {
     "name": "stdout",
     "output_type": "stream",
     "text": [
      "1\n"
     ]
    }
   ],
   "source": [
    "n, m = map(int, input().split())\n",
    "board = []\n",
    "result = []\n",
    "for _ in range(n):\n",
    "    board.append(input())\n",
    "\n",
    "for i in range(n-7):\n",
    "    for j in range(m-7):\n",
    "        draw1 = 0\n",
    "        draw2 = 0\n",
    "\n",
    "        for a in range(i, i+8):\n",
    "            for b in range(j, j+8):\n",
    "                if (a + b) % 2 == 0:\n",
    "                    if board[a][b] != 'B':\n",
    "                        draw1 += 1\n",
    "                    if board[a][b] != 'W':\n",
    "                        draw2 += 1\n",
    "                else:\n",
    "                    if board[a][b] != 'W':\n",
    "                        draw1 += 1\n",
    "                    if board[a][b] != 'B':\n",
    "                        draw2 += 1\n",
    "\n",
    "        result.append(draw1)\n",
    "        result.append(draw2)\n",
    "\n",
    "print(min(result))\n"
   ]
  }
 ],
 "metadata": {
  "kernelspec": {
   "display_name": "Python 3",
   "language": "python",
   "name": "python3"
  },
  "language_info": {
   "codemirror_mode": {
    "name": "ipython",
    "version": 3
   },
   "file_extension": ".py",
   "mimetype": "text/x-python",
   "name": "python",
   "nbconvert_exporter": "python",
   "pygments_lexer": "ipython3",
   "version": "3.9.13"
  }
 },
 "nbformat": 4,
 "nbformat_minor": 2
}
