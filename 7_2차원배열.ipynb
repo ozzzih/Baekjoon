{
 "cells": [
  {
   "cell_type": "code",
   "execution_count": 16,
   "metadata": {},
   "outputs": [
    {
     "name": "stdout",
     "output_type": "stream",
     "text": [
      "4 4 4\n",
      "6 6 6\n",
      "5 6 100\n"
     ]
    }
   ],
   "source": [
    "#2738번\n",
    "#행렬 덧셈\n",
    "\n",
    "s=list(input().split())\n",
    "i=0\n",
    "h1=[]; h2=[]; r=[]\n",
    "while(i<int(s[0])*2):\n",
    "    s1=list(input().split())\n",
    "    if(i<int(s[0])):\n",
    "        h1.append(s1)\n",
    "    else:\n",
    "        h2.append(s1)\n",
    "    i+=1\n",
    "\n",
    "for i in range(int(s[0])):\n",
    "    r1=[]\n",
    "    for j in range(int(s[1])):\n",
    "        r1.append(int(h1[i][j])+int(h2[i][j]))\n",
    "    print(*r1)\n",
    "\n"
   ]
  },
  {
   "cell_type": "code",
   "execution_count": 50,
   "metadata": {},
   "outputs": [
    {
     "name": "stdout",
     "output_type": "stream",
     "text": [
      "0\n",
      "1 1\n"
     ]
    }
   ],
   "source": [
    "#2566번\n",
    "#최댓값\n",
    "r = []\n",
    "for _ in range(9):\n",
    "    l = list(map(int, input().split()))\n",
    "    r.extend(l)\n",
    "\n",
    "max_value = max(r)\n",
    "max_index = r.index(max_value)\n",
    "\n",
    "print(max_value)\n",
    "\n",
    "# 최대값의 위치 계산 및 출력\n",
    "row = max_index // 9 + 1\n",
    "column = max_index % 9 + 1\n",
    "print(row, column)"
   ]
  },
  {
   "cell_type": "code",
   "execution_count": 16,
   "metadata": {},
   "outputs": [
    {
     "name": "stdout",
     "output_type": "stream",
     "text": [
      "Aa0aPAf985Bz1EhCz2W3D1gkD6x"
     ]
    }
   ],
   "source": [
    "#10798번\n",
    "#세로읽기\n",
    "words = [input() for i in range(5)]\n",
    "for j in range(15):\n",
    "    for i in range(5):\n",
    "        if j < len(words[i]):\n",
    "            print(words[i][j], end=\"\")"
   ]
  },
  {
   "cell_type": "code",
   "execution_count": 1,
   "metadata": {},
   "outputs": [
    {
     "name": "stdout",
     "output_type": "stream",
     "text": [
      "260\n"
     ]
    }
   ],
   "source": [
    "#2563번\n",
    "n=int(input())\n",
    "arr=[[0]*100 for _ in range(100)]\n",
    "for _ in range(n):\n",
    "    x,y=map(int, input().split())\n",
    "    for i in range(x,x+10):\n",
    "        for j in range(y,y+10):\n",
    "            arr[i][j]=1\n",
    "result = 0  # 넓이를 출력할 변수\n",
    "for k in range(100):  # 전체 도화지를 돌면서\n",
    "    result += arr[k].count(1)  # 1 개수만 세어준다\n",
    "\n",
    "print(result)"
   ]
  }
 ],
 "metadata": {
  "kernelspec": {
   "display_name": "Python 3",
   "language": "python",
   "name": "python3"
  },
  "language_info": {
   "codemirror_mode": {
    "name": "ipython",
    "version": 3
   },
   "file_extension": ".py",
   "mimetype": "text/x-python",
   "name": "python",
   "nbconvert_exporter": "python",
   "pygments_lexer": "ipython3",
   "version": "3.9.13"
  }
 },
 "nbformat": 4,
 "nbformat_minor": 2
}
