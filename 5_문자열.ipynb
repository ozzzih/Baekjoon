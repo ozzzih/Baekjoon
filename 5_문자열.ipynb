{
 "cells": [
  {
   "cell_type": "code",
   "execution_count": null,
   "metadata": {},
   "outputs": [],
   "source": [
    "#10809번\n",
    "#알파벳 찾기\n",
    "x=[str(-1) for i in range(26)]\n",
    "s=input()\n",
    "for i in range(len(s)):\n",
    "    a=ord(s[i])-97\n",
    "    if (x[a]==str(-1)):\n",
    "        x[a]=str(i)\n",
    "print(\" \".join(x))"
   ]
  },
  {
   "cell_type": "code",
   "execution_count": null,
   "metadata": {},
   "outputs": [],
   "source": [
    "#11720번\n",
    "#숫자의 합\n",
    "n=int(input())\n",
    "s=input()\n",
    "a=0\n",
    "for i in range(n):\n",
    "    a+=int(s[i])\n",
    "print(a)"
   ]
  },
  {
   "cell_type": "code",
   "execution_count": null,
   "metadata": {},
   "outputs": [],
   "source": [
    "#11654번\n",
    "#아스키 코드\n",
    "print(ord(input()))"
   ]
  },
  {
   "cell_type": "code",
   "execution_count": null,
   "metadata": {},
   "outputs": [],
   "source": [
    "#9086번\n",
    "#문자열\n",
    "n=int(input())\n",
    "for i in range(n):\n",
    "    s=input()\n",
    "    print(s[0],s[len(s)-1], sep='')"
   ]
  },
  {
   "cell_type": "code",
   "execution_count": null,
   "metadata": {},
   "outputs": [],
   "source": [
    "#2743번\n",
    "#단어 길이 재기\n",
    "print(len(input()))"
   ]
  },
  {
   "cell_type": "code",
   "execution_count": null,
   "metadata": {},
   "outputs": [],
   "source": [
    "#27866번\n",
    "#문자와 문자열\n",
    "s=input()\n",
    "n=int(input())\n",
    "print(s[n-1])"
   ]
  },
  {
   "cell_type": "code",
   "execution_count": 3,
   "metadata": {},
   "outputs": [
    {
     "name": "stdout",
     "output_type": "stream",
     "text": [
      "AAABBBCCC\n",
      "/////HHHHHTTTTTPPPPP\n"
     ]
    }
   ],
   "source": [
    "#2675번\n",
    "#문자열 반복\n",
    "a=int(input())\n",
    "for i in range(a):\n",
    "    l=[]\n",
    "    a,b=list(input().split())\n",
    "    for j in b:\n",
    "        l.extend(j*int(a))\n",
    "    print(*l, sep=\"\")    "
   ]
  },
  {
   "cell_type": "code",
   "execution_count": 15,
   "metadata": {},
   "outputs": [
    {
     "name": "stdout",
     "output_type": "stream",
     "text": [
      "6\n"
     ]
    }
   ],
   "source": [
    "#1152번\n",
    "#단어의 개수\n",
    "s=input()\n",
    "s1=s.split(sep=\" \")\n",
    "r=len(s1)\n",
    "if(s1[0]==''):\n",
    "    r-=1\n",
    "if(s1[len(s1)-1]==''):\n",
    "    r=r-1\n",
    "print(r)\n"
   ]
  },
  {
   "cell_type": "code",
   "execution_count": 27,
   "metadata": {},
   "outputs": [
    {
     "name": "stdout",
     "output_type": "stream",
     "text": [
      "938\n"
     ]
    }
   ],
   "source": [
    "#2908번\n",
    "#상수\n",
    "def reserve(num):\n",
    "    num=str(num)\n",
    "    print(num[2],num[1],num[0], sep='')\n",
    "i1, i2=map(int, input().split())\n",
    "if(i1%10<i2%10):\n",
    "    reserve(i2)\n",
    "elif(i1%10>i2%10):\n",
    "    reserve(i1)\n",
    "else:\n",
    "    if(i1%100>i2%100):\n",
    "        reserve(i1)\n",
    "    elif(i1%100<i2%100):\n",
    "        reserve(i2)\n",
    "    else:\n",
    "        if(i1>i2):\n",
    "            reserve(i1)\n",
    "        else:\n",
    "            reserve(i2)\n",
    "\n",
    "\n"
   ]
  },
  {
   "cell_type": "code",
   "execution_count": 29,
   "metadata": {},
   "outputs": [
    {
     "name": "stdout",
     "output_type": "stream",
     "text": [
      "322\n"
     ]
    }
   ],
   "source": [
    "#2908 정답\n",
    "print(max(input()[::-1].split()))"
   ]
  },
  {
   "cell_type": "code",
   "execution_count": 72,
   "metadata": {},
   "outputs": [
    {
     "name": "stdout",
     "output_type": "stream",
     "text": [
      "11\n"
     ]
    }
   ],
   "source": [
    "#5622번\n",
    "#다이얼\n",
    "l=['A','B','C','D','E','F','G','H','I','J','K','L','M','N','O','P','Q','R','S','T','U','V','W','X','Y','Z']\n",
    "s=input()\n",
    "r=0\n",
    "for q in range(len(s)):\n",
    "    if((s[q]=='Z')|(s[q]=='Y')):\n",
    "        r+=10\n",
    "    elif(s[q]=='S'):\n",
    "        r+=8\n",
    "    elif(s[q]=='V'):\n",
    "        r+=9\n",
    "    else:\n",
    "        r+=((l.index(s[q])+3)//3)+2\n",
    "print(r)"
   ]
  },
  {
   "cell_type": "code",
   "execution_count": 1,
   "metadata": {},
   "outputs": [
    {
     "name": "stdout",
     "output_type": "stream",
     "text": [
      "\n",
      "dkssudgktpdy\n",
      "qldksgo\n",
      "qnrkdl\n",
      "\n",
      "\n",
      "\n",
      "\n",
      "\n",
      "\n",
      "\n",
      "\n",
      "\n"
     ]
    }
   ],
   "source": [
    "#11718번\n",
    "#그대로 출력하기\n",
    "while True:\n",
    "    try:\n",
    "        print(input())\n",
    "    except EOFError:\n",
    "        break\n",
    "    \n",
    "\n"
   ]
  }
 ],
 "metadata": {
  "kernelspec": {
   "display_name": "Python 3",
   "language": "python",
   "name": "python3"
  },
  "language_info": {
   "codemirror_mode": {
    "name": "ipython",
    "version": 3
   },
   "file_extension": ".py",
   "mimetype": "text/x-python",
   "name": "python",
   "nbconvert_exporter": "python",
   "pygments_lexer": "ipython3",
   "version": "3.9.13"
  },
  "orig_nbformat": 4
 },
 "nbformat": 4,
 "nbformat_minor": 2
}
