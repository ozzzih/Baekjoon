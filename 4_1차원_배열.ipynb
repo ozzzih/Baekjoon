{
 "cells": [
  {
   "cell_type": "code",
   "execution_count": 3,
   "metadata": {},
   "outputs": [
    {
     "name": "stdout",
     "output_type": "stream",
     "text": [
      "0\n"
     ]
    }
   ],
   "source": [
    "#10807번\n",
    "import sys\n",
    "x=int(input())\n",
    "a=list(sys.stdin.readline().split())\n",
    "print(a.count(input()))"
   ]
  },
  {
   "cell_type": "code",
   "execution_count": 4,
   "metadata": {},
   "outputs": [],
   "source": [
    "#10871번\n",
    "import sys\n",
    "n,x=map(int, sys.stdin.readline().split())\n",
    "a=list(sys.stdin.readline().split())\n",
    "b=[value for value in a if int(value)<x]\n",
    "print(' '.join (b))"
   ]
  }
 ],
 "metadata": {
  "kernelspec": {
   "display_name": "Python 3",
   "language": "python",
   "name": "python3"
  },
  "language_info": {
   "codemirror_mode": {
    "name": "ipython",
    "version": 3
   },
   "file_extension": ".py",
   "mimetype": "text/x-python",
   "name": "python",
   "nbconvert_exporter": "python",
   "pygments_lexer": "ipython3",
   "version": "3.10.7"
  },
  "orig_nbformat": 4
 },
 "nbformat": 4,
 "nbformat_minor": 2
}
