{
 "cells": [
  {
   "cell_type": "code",
   "execution_count": 3,
   "metadata": {},
   "outputs": [
    {
     "name": "stdout",
     "output_type": "stream",
     "text": [
      "0\n"
     ]
    }
   ],
   "source": [
    "#10807번\n",
    "import sys\n",
    "x=int(input())\n",
    "a=list(sys.stdin.readline().split())\n",
    "print(a.count(input()))"
   ]
  },
  {
   "cell_type": "code",
   "execution_count": 4,
   "metadata": {},
   "outputs": [],
   "source": [
    "#10871번\n",
    "import sys\n",
    "n,x=map(int, sys.stdin.readline().split())\n",
    "a=list(sys.stdin.readline().split())\n",
    "b=[value for value in a if int(value)<x]\n",
    "print(' '.join (b))"
   ]
  },
  {
   "cell_type": "code",
   "execution_count": null,
   "metadata": {},
   "outputs": [],
   "source": [
    "#10818번\n",
    "import sys\n",
    "a=int(input())\n",
    "b=list(map(int, sys.stdin.readline().split()))\n",
    "print(min(b[:a]), max(b[:a]))\n"
   ]
  },
  {
   "cell_type": "code",
   "execution_count": 8,
   "metadata": {},
   "outputs": [
    {
     "name": "stdout",
     "output_type": "stream",
     "text": [
      "85\n",
      "8\n"
     ]
    }
   ],
   "source": [
    "#2562번\n",
    "x=[]\n",
    "for i in range(9):\n",
    "    x.append(int(input()))\n",
    "print(max(x))\n",
    "print(x.index(max(x))+1)"
   ]
  },
  {
   "cell_type": "code",
   "execution_count": 7,
   "metadata": {},
   "outputs": [
    {
     "data": {
      "text/plain": [
       "8"
      ]
     },
     "execution_count": 7,
     "metadata": {},
     "output_type": "execute_result"
    }
   ],
   "source": [
    "#10810번\n",
    "import sys\n",
    "n, m=map(int, input().split())\n",
    "x=[0 for i in range(n)]\n",
    "while(m>0):\n",
    "    a,b,c=map(int, sys.stdin.readline().split())\n",
    "    for i in range(a-1,b):\n",
    "        x[i]=c\n",
    "    m=m-1\n",
    "print(*x)\n"
   ]
  },
  {
   "cell_type": "code",
   "execution_count": null,
   "metadata": {},
   "outputs": [],
   "source": [
    "#10813번\n",
    "import sys\n",
    "n,m=map(int, input().split())\n",
    "x=[i+1 for i in range(n)]\n",
    "while(m>0):\n",
    "    a,b=map(int, sys.stdin.readline().split())\n",
    "    t=x[a-1]\n",
    "    x[a-1]=x[b-1]\n",
    "    x[b-1]=t\n",
    "    m=m-1\n",
    "print(*x)"
   ]
  },
  {
   "cell_type": "code",
   "execution_count": null,
   "metadata": {},
   "outputs": [],
   "source": [
    "#5597번\n",
    "import sys\n",
    "a=[]\n",
    "for i in range(28):\n",
    "    x=int(input())\n",
    "    a.append(x)\n",
    "b=range(1,31)\n",
    "c=list(set(b)-set(a))\n",
    "c.sort()\n",
    "print(c[0])\n",
    "print(c[1])"
   ]
  },
  {
   "cell_type": "code",
   "execution_count": 10,
   "metadata": {},
   "outputs": [
    {
     "name": "stdout",
     "output_type": "stream",
     "text": [
      "10\n"
     ]
    }
   ],
   "source": [
    "#3052번\n",
    "a=set()\n",
    "for i in range(10):\n",
    "    a.add(int(input())%42)\n",
    "print(len(a))"
   ]
  },
  {
   "cell_type": "code",
   "execution_count": 25,
   "metadata": {},
   "outputs": [
    {
     "name": "stdout",
     "output_type": "stream",
     "text": [
      "3 4 1 2 5\n"
     ]
    }
   ],
   "source": [
    "#10811번\n",
    "n,m=map(int, input().split())\n",
    "x=list(range(1,n+1))\n",
    "temp=[]\n",
    "temp[:]=x\n",
    "for i in range(m):\n",
    "    a,b=map(int, input().split())\n",
    "    for j in range(b-a+1):\n",
    "        temp[a+j-1]=x[b-j-1]\n",
    "    x[:]=temp\n",
    "print(*temp)\n"
   ]
  },
  {
   "cell_type": "code",
   "execution_count": null,
   "metadata": {},
   "outputs": [],
   "source": [
    "#1546번\n",
    "import sys\n",
    "a=int(input())\n",
    "b=list(map(int, sys.stdin.readline().split()))\n",
    "m=max(b)\n",
    "for i in range(a):\n",
    "    b[i]=b[i]/m*100\n",
    "result = 0\n",
    "cnt = 0\n",
    "for i in b:\n",
    "    result += i\n",
    "    cnt += 1\n",
    "    \n",
    "print(result / cnt)"
   ]
  }
 ],
 "metadata": {
  "kernelspec": {
   "display_name": "Python 3",
   "language": "python",
   "name": "python3"
  },
  "language_info": {
   "codemirror_mode": {
    "name": "ipython",
    "version": 3
   },
   "file_extension": ".py",
   "mimetype": "text/x-python",
   "name": "python",
   "nbconvert_exporter": "python",
   "pygments_lexer": "ipython3",
   "version": "3.10.7"
  },
  "orig_nbformat": 4
 },
 "nbformat": 4,
 "nbformat_minor": 2
}
