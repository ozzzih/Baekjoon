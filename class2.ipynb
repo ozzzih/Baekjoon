{
 "cells": [
  {
   "cell_type": "code",
   "execution_count": 1,
   "metadata": {},
   "outputs": [],
   "source": [
    "#1181번\n",
    "import sys\n",
    "n=int(sys.stdin.readline())\n",
    "lst=[(sys.stdin.readline().strip()) for i in range(n)]\n",
    "set_list=set(lst)\n",
    "lst=list(set_list)\n",
    "lst.sort()\n",
    "lst.sort(key=len)\n",
    "for i in lst:\n",
    "    print(i)\n",
    "\n"
   ]
  },
  {
   "cell_type": "code",
   "execution_count": null,
   "metadata": {},
   "outputs": [],
   "source": [
    "#2164번\n",
    "from collections import deque\n",
    "\n",
    "N = int(input())\n",
    "deque = deque([i for i in range(1, N+1)])\n",
    "\n",
    "while(len(deque) >1):\n",
    "    deque.popleft()\n",
    "    move_num = deque.popleft()\n",
    "    deque.append(move_num)\n",
    "    \n",
    "print(deque[0])\n"
   ]
  }
 ],
 "metadata": {
  "kernelspec": {
   "display_name": "base",
   "language": "python",
   "name": "python3"
  },
  "language_info": {
   "codemirror_mode": {
    "name": "ipython",
    "version": 3
   },
   "file_extension": ".py",
   "mimetype": "text/x-python",
   "name": "python",
   "nbconvert_exporter": "python",
   "pygments_lexer": "ipython3",
   "version": "3.11.7"
  }
 },
 "nbformat": 4,
 "nbformat_minor": 2
}
