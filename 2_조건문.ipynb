{
 "cells": [
  {
   "cell_type": "code",
   "execution_count": 1,
   "metadata": {},
   "outputs": [
    {
     "name": "stdout",
     "output_type": "stream",
     "text": [
      "<\n"
     ]
    }
   ],
   "source": [
    "#1330번\n",
    "a, b=map(int, input().split())\n",
    "if (a>b):\n",
    "    print(\">\")\n",
    "elif(a<b):\n",
    "    print(\"<\")\n",
    "else:\n",
    "    print(\"==\")"
   ]
  },
  {
   "cell_type": "code",
   "execution_count": 4,
   "metadata": {},
   "outputs": [
    {
     "name": "stdout",
     "output_type": "stream",
     "text": [
      "F\n"
     ]
    }
   ],
   "source": [
    "#9498번\n",
    "x=int(input())\n",
    "if x>=90:\n",
    "    print(\"A\")\n",
    "elif x>=80:\n",
    "    print(\"B\")\n",
    "elif x>=70:\n",
    "    print(\"C\")\n",
    "elif x>= 60:\n",
    "    print(\"D\")\n",
    "else:\n",
    "    print(\"F\")"
   ]
  },
  {
   "cell_type": "code",
   "execution_count": 20,
   "metadata": {},
   "outputs": [
    {
     "name": "stdout",
     "output_type": "stream",
     "text": [
      "1\n"
     ]
    }
   ],
   "source": [
    "#2753번\n",
    "x=int(input())\n",
    "if ((x%4==0 and x%100!=0) or x%400==0):\n",
    "    print(1)\n",
    "else:\n",
    "    print(0)"
   ]
  },
  {
   "cell_type": "code",
   "execution_count": 23,
   "metadata": {},
   "outputs": [
    {
     "name": "stdout",
     "output_type": "stream",
     "text": [
      "4\n"
     ]
    }
   ],
   "source": [
    "#14681번\n",
    "x=int(input())\n",
    "y=int(input())\n",
    "if (x>0 and y>0):\n",
    "    print(1)\n",
    "elif (x<0 and y>0):\n",
    "    print(2)\n",
    "elif (x<0 and y<0):\n",
    "    print(3)\n",
    "else:\n",
    "    print(4)"
   ]
  },
  {
   "cell_type": "code",
   "execution_count": 32,
   "metadata": {},
   "outputs": [
    {
     "name": "stdout",
     "output_type": "stream",
     "text": [
      "22 55\n"
     ]
    }
   ],
   "source": [
    "#2884번\n",
    "h, m= map(int, input().split())\n",
    "if (m<45):\n",
    "    if (h==0):\n",
    "        h=23\n",
    "    else:\n",
    "        h=h-1\n",
    "    m=m+60-45\n",
    "    print(h, m)\n",
    "else:\n",
    "    m=m-45\n",
    "    print(h,m)\n",
    "\n",
    "\n"
   ]
  },
  {
   "cell_type": "code",
   "execution_count": 6,
   "metadata": {},
   "outputs": [
    {
     "name": "stdout",
     "output_type": "stream",
     "text": [
      "0 13\n"
     ]
    }
   ],
   "source": [
    "#2325번\n",
    "h,m=map(int, input().split())\n",
    "m1=int(input())\n",
    "m2=m+m1\n",
    "if m2>=60:\n",
    "    h1=m2//60\n",
    "    m=m2%60\n",
    "    if h+h1>=24:\n",
    "        h=h+h1-24\n",
    "    else:\n",
    "        h=h+h1\n",
    "    print(h, m)\n",
    "else:\n",
    "    print(h, m2)\n",
    "\n"
   ]
  },
  {
   "cell_type": "code",
   "execution_count": 10,
   "metadata": {},
   "outputs": [
    {
     "ename": "NameError",
     "evalue": "name 'mode' is not defined",
     "output_type": "error",
     "traceback": [
      "\u001b[1;31m---------------------------------------------------------------------------\u001b[0m",
      "\u001b[1;31mNameError\u001b[0m                                 Traceback (most recent call last)",
      "Cell \u001b[1;32mIn[10], line 1\u001b[0m\n\u001b[1;32m----> 1\u001b[0m mode(\u001b[39m1\u001b[39m,\u001b[39m2\u001b[39m,\u001b[39m3\u001b[39m)\n",
      "\u001b[1;31mNameError\u001b[0m: name 'mode' is not defined"
     ]
    }
   ],
   "source": [
    "mode(1,2,3)"
   ]
  },
  {
   "cell_type": "code",
   "execution_count": 14,
   "metadata": {},
   "outputs": [
    {
     "name": "stdout",
     "output_type": "stream",
     "text": [
      "600\n"
     ]
    }
   ],
   "source": [
    "#2480번\n",
    "a,b,c=map(int, input().split())\n",
    "x=len(set([a,b,c]))\n",
    "if x==1:\n",
    "    print(10000+a*1000)\n",
    "elif x==2:\n",
    "    if (a==b or a==c):\n",
    "        print(1000+a*100)\n",
    "    else:\n",
    "        print(1000+b*100)\n",
    "else:\n",
    "    print(max([a,b,c])*100)\n"
   ]
  },
  {
   "cell_type": "code",
   "execution_count": null,
   "metadata": {},
   "outputs": [],
   "source": []
  }
 ],
 "metadata": {
  "kernelspec": {
   "display_name": "Python 3",
   "language": "python",
   "name": "python3"
  },
  "language_info": {
   "codemirror_mode": {
    "name": "ipython",
    "version": 3
   },
   "file_extension": ".py",
   "mimetype": "text/x-python",
   "name": "python",
   "nbconvert_exporter": "python",
   "pygments_lexer": "ipython3",
   "version": "3.10.7"
  },
  "orig_nbformat": 4
 },
 "nbformat": 4,
 "nbformat_minor": 2
}
